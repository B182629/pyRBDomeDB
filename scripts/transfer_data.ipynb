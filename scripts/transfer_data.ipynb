{
 "cells": [
  {
   "cell_type": "code",
   "execution_count": null,
   "metadata": {},
   "outputs": [],
   "source": [
    "import sqlite3\n",
    "import pandas as pd\n",
    "import yaml\n",
    "import os\n",
    "import mysql.connector\n",
    "import numpy as np"
   ]
  },
  {
   "cell_type": "code",
   "execution_count": null,
   "metadata": {},
   "outputs": [],
   "source": [
    "settings_file = open('/Users/aliceaakerberg/Sites/scripts/settings.yaml','r')\n",
    "settings = yaml.load(settings_file,Loader=yaml.FullLoader)\n",
    "\n",
    "db_path = settings[0]['database']['database_path']\n",
    "username = settings[0]['database']['username']\n",
    "password = settings[0]['database']['password']\n",
    "host = settings[0]['database']['host']\n",
    "database_name = settings[0]['database']['database_name']\n",
    "output_file_path = settings[1]['output']['output_file_path']"
   ]
  },
  {
   "cell_type": "code",
   "execution_count": null,
   "metadata": {},
   "outputs": [],
   "source": [
    "os.makedirs(output_file_path, exist_ok=True)"
   ]
  },
  {
   "cell_type": "code",
   "execution_count": null,
   "metadata": {},
   "outputs": [],
   "source": [
    "def get_table_names(db_path):\n",
    "    # Connect to the SQLite database\n",
    "    conn = sqlite3.connect(db_path)\n",
    "    cursor = conn.cursor()\n",
    "\n",
    "    # Execute a query to retrieve the table names\n",
    "    cursor.execute(\"SELECT name FROM sqlite_master WHERE type='table';\")\n",
    "    tables = cursor.fetchall()\n",
    "\n",
    "    # Close the connection\n",
    "    conn.close()\n",
    "\n",
    "    # Store the table names in a list\n",
    "    table_names = [table[0] for table in tables]\n",
    "    return table_names"
   ]
  },
  {
   "cell_type": "code",
   "execution_count": null,
   "metadata": {},
   "outputs": [],
   "source": [
    "table_names = get_table_names(db_path)\n",
    "print(table_names)"
   ]
  },
  {
   "cell_type": "code",
   "execution_count": null,
   "metadata": {},
   "outputs": [],
   "source": [
    "def transfer_sqlite_to_df(db_path, table_name, output_file_path):\n",
    "    # Connect to the SQLite3 database\n",
    "    sqlite_conn = sqlite3.connect(db_path)\n",
    "    # Read the data from the SQLite3 table into a pandas DataFrame\n",
    "    df = pd.read_sql(f'SELECT * FROM {table_name}', sqlite_conn)\n",
    "    sqlite_conn.close()\n",
    "\n",
    "    # Check for column names with whitespace and replace with underscores\n",
    "    original_columns = df.columns.tolist()\n",
    "    new_columns = [col.replace(' ', '_').replace('_-_', '_').replace('-', '_') for col in original_columns]\n",
    "\n",
    "    # Print which column names have been changed\n",
    "    for original, new in zip(original_columns, new_columns):\n",
    "        if original != new:\n",
    "            print(f\"Column name changed in '{table_name}': '{original}' to '{new}'\")\n",
    "\n",
    "    df.columns = new_columns\n",
    "\n",
    "    output_file_path = f\"{output_file_path}/{table_name}.tsv\"\n",
    "\n",
    "    #df.to_csv(output_file_path, sep='\\t', index=False)\n",
    "    print(f\"Data from '{table_name}' saved to '{output_file_path}' successfully.\")\n",
    "\n",
    "    df.replace('', np.nan, inplace=True)\n",
    "    df.replace({np.inf: 'inf', -np.inf: '-inf'}, inplace=True)\n",
    "\n",
    "    conn = mysql.connector.connect(user=username, password=password, host=host, database=database_name)\n",
    "    cursor = conn.cursor()\n",
    "\n",
    "    cursor.execute(f\"SELECT * FROM {table_name}\")\n",
    "    existing_rows = cursor.fetchall()\n",
    "\n",
    "    # Create a set of tuples representing existing rows for fast lookup\n",
    "    existing_rows_set = set(existing_rows)\n",
    "\n",
    "    # Step 3: Insert DataFrame into the MySQL table without duplicates\n",
    "    columns = ', '.join(df.columns)\n",
    "    placeholders = ', '.join(['%s'] * len(df.columns))\n",
    "    insert_query = f\"INSERT INTO {table_name} ({columns}) VALUES ({placeholders})\"\n",
    "\n",
    "    for i, row in df.iterrows():\n",
    "        row_tuple = tuple(None if pd.isna(val) else val for val in row)\n",
    "        if row_tuple not in existing_rows_set:\n",
    "            try:\n",
    "                cursor.execute(insert_query, row_tuple)\n",
    "            except mysql.connector.Error as err:\n",
    "                print(f\"Error: {err}\")\n",
    "                print(f\"Failed to insert row: {row_tuple}\")\n",
    "\n",
    "    conn.commit()\n",
    "\n",
    "    # Step 4: Close the cursor and connection\n",
    "    cursor.close()\n",
    "    conn.close()\n",
    "\n",
    "    print(f\"Data imported successfully into table {table_name}!\")"
   ]
  },
  {
   "cell_type": "code",
   "execution_count": null,
   "metadata": {},
   "outputs": [],
   "source": [
    "for table in table_names:\n",
    "    transfer_sqlite_to_df(db_path, table, output_file_path)"
   ]
  },
  {
   "cell_type": "code",
   "execution_count": null,
   "metadata": {},
   "outputs": [],
   "source": []
  }
 ],
 "metadata": {
  "kernelspec": {
   "display_name": "pyrbdome",
   "language": "python",
   "name": "python3"
  },
  "language_info": {
   "codemirror_mode": {
    "name": "ipython",
    "version": 3
   },
   "file_extension": ".py",
   "mimetype": "text/x-python",
   "name": "python",
   "nbconvert_exporter": "python",
   "pygments_lexer": "ipython3",
   "version": "3.12.2"
  }
 },
 "nbformat": 4,
 "nbformat_minor": 2
}
